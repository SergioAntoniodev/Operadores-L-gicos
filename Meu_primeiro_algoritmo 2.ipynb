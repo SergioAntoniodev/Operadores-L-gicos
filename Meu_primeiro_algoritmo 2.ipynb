{
  "nbformat": 4,
  "nbformat_minor": 0,
  "metadata": {
    "colab": {
      "provenance": []
    },
    "kernelspec": {
      "name": "python3",
      "display_name": "Python 3"
    },
    "language_info": {
      "name": "python"
    }
  },
  "cells": [
    {
      "cell_type": "markdown",
      "source": [
        "Operadores Aritiméticos"
      ],
      "metadata": {
        "id": "hf1LmSoqZR9t"
      }
    },
    {
      "cell_type": "code",
      "source": [
        "from google.colab import drive\n",
        "drive.mount('/content/drive')"
      ],
      "metadata": {
        "id": "zwKXDsEsR9vl"
      },
      "execution_count": null,
      "outputs": []
    },
    {
      "cell_type": "code",
      "source": [
        "#adição\n",
        "10 + 2"
      ],
      "metadata": {
        "colab": {
          "base_uri": "https://localhost:8080/"
        },
        "id": "tgtxoI13WlhM",
        "outputId": "f3a7deda-1657-4684-f520-55e5c6648145"
      },
      "execution_count": null,
      "outputs": [
        {
          "output_type": "execute_result",
          "data": {
            "text/plain": [
              "12"
            ]
          },
          "metadata": {},
          "execution_count": 2
        }
      ]
    },
    {
      "cell_type": "code",
      "source": [
        "#subtração\n",
        "10 - 2"
      ],
      "metadata": {
        "colab": {
          "base_uri": "https://localhost:8080/"
        },
        "id": "0wGWG67RW1_J",
        "outputId": "075eaf23-da9e-4a8f-e453-2d92acec515e"
      },
      "execution_count": null,
      "outputs": [
        {
          "output_type": "execute_result",
          "data": {
            "text/plain": [
              "8"
            ]
          },
          "metadata": {},
          "execution_count": 4
        }
      ]
    },
    {
      "cell_type": "code",
      "source": [
        "#multipicação\n",
        "10 * 2"
      ],
      "metadata": {
        "colab": {
          "base_uri": "https://localhost:8080/"
        },
        "id": "x1edfP0OW5pB",
        "outputId": "0e39febe-bb68-4ade-ba36-f65aa625049b"
      },
      "execution_count": null,
      "outputs": [
        {
          "output_type": "execute_result",
          "data": {
            "text/plain": [
              "20"
            ]
          },
          "metadata": {},
          "execution_count": 3
        }
      ]
    },
    {
      "cell_type": "code",
      "source": [
        "#divisão\n",
        "10 / 2"
      ],
      "metadata": {
        "colab": {
          "base_uri": "https://localhost:8080/"
        },
        "id": "VGFGxcyCXSF3",
        "outputId": "76f625db-1fdd-40b7-938d-b6a4c1c2db7b"
      },
      "execution_count": null,
      "outputs": [
        {
          "output_type": "execute_result",
          "data": {
            "text/plain": [
              "5.0"
            ]
          },
          "metadata": {},
          "execution_count": 5
        }
      ]
    },
    {
      "cell_type": "code",
      "source": [
        "#divisão inteira\n",
        "10 // 2"
      ],
      "metadata": {
        "colab": {
          "base_uri": "https://localhost:8080/"
        },
        "id": "TzCgW7rdXfPE",
        "outputId": "cc748dc7-fa79-4ff2-e8d7-dd4c52102424"
      },
      "execution_count": null,
      "outputs": [
        {
          "output_type": "execute_result",
          "data": {
            "text/plain": [
              "5"
            ]
          },
          "metadata": {},
          "execution_count": 6
        }
      ]
    },
    {
      "cell_type": "code",
      "source": [
        "#resto da divisão\n",
        "10 % 2"
      ],
      "metadata": {
        "colab": {
          "base_uri": "https://localhost:8080/"
        },
        "id": "jgk1v1NPXkmL",
        "outputId": "51750b48-bde7-494c-f95e-04a32c4198de"
      },
      "execution_count": null,
      "outputs": [
        {
          "output_type": "execute_result",
          "data": {
            "text/plain": [
              "0"
            ]
          },
          "metadata": {},
          "execution_count": 7
        }
      ]
    },
    {
      "cell_type": "code",
      "source": [
        "#potenciação\n",
        "10 ** 2"
      ],
      "metadata": {
        "colab": {
          "base_uri": "https://localhost:8080/"
        },
        "id": "4yVLCT9BXquE",
        "outputId": "6d43640a-d6c1-4554-f4b5-2ac660e85587"
      },
      "execution_count": null,
      "outputs": [
        {
          "output_type": "execute_result",
          "data": {
            "text/plain": [
              "100"
            ]
          },
          "metadata": {},
          "execution_count": 8
        }
      ]
    },
    {
      "cell_type": "markdown",
      "source": [
        "Operadores Relacionais"
      ],
      "metadata": {
        "id": "leGu4GDqZiuu"
      }
    },
    {
      "cell_type": "code",
      "source": [
        "#menor\n",
        "10 < 2"
      ],
      "metadata": {
        "colab": {
          "base_uri": "https://localhost:8080/"
        },
        "id": "o89lhZRwZtvr",
        "outputId": "63cedab8-3fc2-4f92-872a-89ec6b14d1f0"
      },
      "execution_count": null,
      "outputs": [
        {
          "output_type": "execute_result",
          "data": {
            "text/plain": [
              "False"
            ]
          },
          "metadata": {},
          "execution_count": 11
        }
      ]
    },
    {
      "cell_type": "code",
      "source": [
        "#menor ou igua\n",
        "10 <= 2"
      ],
      "metadata": {
        "colab": {
          "base_uri": "https://localhost:8080/"
        },
        "id": "WebHgOtvZyro",
        "outputId": "20f6eb64-df44-4379-b767-73d7822184a9"
      },
      "execution_count": null,
      "outputs": [
        {
          "output_type": "execute_result",
          "data": {
            "text/plain": [
              "False"
            ]
          },
          "metadata": {},
          "execution_count": 12
        }
      ]
    },
    {
      "cell_type": "code",
      "source": [
        "#maior\n",
        "10 > 2"
      ],
      "metadata": {
        "colab": {
          "base_uri": "https://localhost:8080/"
        },
        "id": "OncLAy7uZ5gW",
        "outputId": "1705242f-520e-445c-a1a9-38ed149ce0e9"
      },
      "execution_count": null,
      "outputs": [
        {
          "output_type": "execute_result",
          "data": {
            "text/plain": [
              "True"
            ]
          },
          "metadata": {},
          "execution_count": 13
        }
      ]
    },
    {
      "cell_type": "code",
      "source": [
        "#maior ou igual\n",
        "10 >= 2"
      ],
      "metadata": {
        "colab": {
          "base_uri": "https://localhost:8080/"
        },
        "id": "MhErip1baEsS",
        "outputId": "1d061e5b-9ef8-48ca-dc35-b77be9ed9437"
      },
      "execution_count": null,
      "outputs": [
        {
          "output_type": "execute_result",
          "data": {
            "text/plain": [
              "True"
            ]
          },
          "metadata": {},
          "execution_count": 14
        }
      ]
    },
    {
      "cell_type": "code",
      "source": [
        "#igual\n",
        "7 == 7"
      ],
      "metadata": {
        "colab": {
          "base_uri": "https://localhost:8080/"
        },
        "id": "fW5GkscKaL29",
        "outputId": "2ba434c0-3e07-43c1-dfdd-07ff5a45a0e9"
      },
      "execution_count": null,
      "outputs": [
        {
          "output_type": "execute_result",
          "data": {
            "text/plain": [
              "True"
            ]
          },
          "metadata": {},
          "execution_count": 16
        }
      ]
    },
    {
      "cell_type": "code",
      "source": [
        "#Diferente\n",
        "7 != 7"
      ],
      "metadata": {
        "colab": {
          "base_uri": "https://localhost:8080/"
        },
        "id": "2uLqsX8UaRYa",
        "outputId": "959632d8-8916-4e87-fbf8-30041cbdb485"
      },
      "execution_count": null,
      "outputs": [
        {
          "output_type": "execute_result",
          "data": {
            "text/plain": [
              "False"
            ]
          },
          "metadata": {},
          "execution_count": 17
        }
      ]
    },
    {
      "cell_type": "markdown",
      "source": [
        "Operadores Lógicos"
      ],
      "metadata": {
        "id": "fte-d8CjapY6"
      }
    },
    {
      "cell_type": "markdown",
      "source": [
        "\n",
        "\n",
        "*  And\n",
        "*  or\n",
        "*  Not\n",
        "\n",
        "\n",
        "\n",
        "\n",
        "\n"
      ],
      "metadata": {
        "id": "rtVMPAcEa7PJ"
      }
    },
    {
      "cell_type": "markdown",
      "source": [
        "Tabela verdade"
      ],
      "metadata": {
        "id": "_FQE8Nc1bJXJ"
      }
    },
    {
      "cell_type": "markdown",
      "source": [
        "*  And"
      ],
      "metadata": {
        "id": "NxbYWkZ8bOjC"
      }
    },
    {
      "cell_type": "code",
      "source": [
        "print(10 > 2 and 4 < 6) #V and V - V\n",
        "print(10 > 2 and 4 > 6) #V and F - F\n",
        "print(10 < 2 and 4 < 6) #F and V - F\n",
        "print(10 < 2 and 4 > 6) #F and F - F\n"
      ],
      "metadata": {
        "colab": {
          "base_uri": "https://localhost:8080/"
        },
        "id": "E88OBIj3bL7w",
        "outputId": "f764a2a0-30b0-44a2-b642-56a927a88ffc"
      },
      "execution_count": null,
      "outputs": [
        {
          "output_type": "stream",
          "name": "stdout",
          "text": [
            "True\n",
            "False\n",
            "False\n",
            "False\n"
          ]
        }
      ]
    },
    {
      "cell_type": "markdown",
      "source": [
        "*  Or"
      ],
      "metadata": {
        "id": "wKUsqU5ycQod"
      }
    },
    {
      "cell_type": "code",
      "source": [
        "print(10 > 2 or 4 < 6) #V Or V - V\n",
        "print(10 > 2 or 4 > 6) #V Or F - V\n",
        "print(10 < 2 or 4 < 6) #F Or V - V\n",
        "print(10 < 2 or 4 > 6) #F Or F - F"
      ],
      "metadata": {
        "id": "gV2KqnVqcM6B",
        "colab": {
          "base_uri": "https://localhost:8080/"
        },
        "outputId": "47a504e7-45a2-4b20-a39d-5fa98808b892"
      },
      "execution_count": null,
      "outputs": [
        {
          "output_type": "stream",
          "name": "stdout",
          "text": [
            "True\n",
            "True\n",
            "True\n",
            "False\n"
          ]
        }
      ]
    },
    {
      "cell_type": "markdown",
      "source": [
        "* Not"
      ],
      "metadata": {
        "id": "hYHXd-TLIL-z"
      }
    },
    {
      "cell_type": "code",
      "source": [
        "not 10 > 2"
      ],
      "metadata": {
        "colab": {
          "base_uri": "https://localhost:8080/"
        },
        "id": "S503JC2aIeu0",
        "outputId": "d6c42467-81c2-4b88-df8d-ac4f7ae8ab41"
      },
      "execution_count": null,
      "outputs": [
        {
          "output_type": "execute_result",
          "data": {
            "text/plain": [
              "False"
            ]
          },
          "metadata": {},
          "execution_count": 3
        }
      ]
    },
    {
      "cell_type": "code",
      "source": [
        "not 10 < 2"
      ],
      "metadata": {
        "colab": {
          "base_uri": "https://localhost:8080/"
        },
        "id": "PSSnN8zfIu9F",
        "outputId": "b3afff67-35c2-40c7-f9a4-294f43358b44"
      },
      "execution_count": null,
      "outputs": [
        {
          "output_type": "execute_result",
          "data": {
            "text/plain": [
              "True"
            ]
          },
          "metadata": {},
          "execution_count": 4
        }
      ]
    },
    {
      "cell_type": "code",
      "source": [
        "#for + range\n",
        "for contador in range(10):\n",
        "  print(contador)"
      ],
      "metadata": {
        "colab": {
          "base_uri": "https://localhost:8080/"
        },
        "id": "YppDvRkxhvG4",
        "outputId": "eefba229-07d8-4ed1-ed9c-30ebe0749a35"
      },
      "execution_count": null,
      "outputs": [
        {
          "output_type": "stream",
          "name": "stdout",
          "text": [
            "0\n",
            "1\n",
            "2\n",
            "3\n",
            "4\n",
            "5\n",
            "6\n",
            "7\n",
            "8\n",
            "9\n"
          ]
        }
      ]
    },
    {
      "cell_type": "code",
      "source": [
        "#for range + break\n",
        "for contador in range(1000):\n",
        "  print(contador)\n",
        "  if contador == 3:\n",
        "       break\n"
      ],
      "metadata": {
        "colab": {
          "base_uri": "https://localhost:8080/"
        },
        "id": "egALv81giI9a",
        "outputId": "530f9590-cfd0-4605-b9e5-c195a5426dab"
      },
      "execution_count": null,
      "outputs": [
        {
          "output_type": "stream",
          "name": "stdout",
          "text": [
            "0\n",
            "1\n",
            "2\n",
            "3\n"
          ]
        }
      ]
    },
    {
      "cell_type": "code",
      "source": [
        "lista = ['teste1', 'teste2']"
      ],
      "metadata": {
        "id": "_4x9C6P7k6KK"
      },
      "execution_count": null,
      "outputs": []
    },
    {
      "cell_type": "code",
      "source": [
        "#for simples\n",
        "for val in lista:\n",
        " print(val)"
      ],
      "metadata": {
        "colab": {
          "base_uri": "https://localhost:8080/"
        },
        "id": "Dufyd7Tilo1P",
        "outputId": "d2494ea0-b7df-4913-9f60-e801ae4d8479"
      },
      "execution_count": null,
      "outputs": [
        {
          "output_type": "stream",
          "name": "stdout",
          "text": [
            "teste1\n",
            "teste2\n"
          ]
        }
      ]
    }
  ]
}